{
 "metadata": {
  "language_info": {
   "codemirror_mode": {
    "name": "ipython",
    "version": 3
   },
   "file_extension": ".py",
   "mimetype": "text/x-python",
   "name": "python",
   "nbconvert_exporter": "python",
   "pygments_lexer": "ipython3",
   "version": 3
  },
  "orig_nbformat": 4
 },
 "nbformat": 4,
 "nbformat_minor": 2,
 "cells": [
  {
   "source": [
    "import matplotlib as mpl\n",
    "import matplotlib.pyplot as plt\n",
    "import pandas as pd\n",
    "import matplotlib.dates as md\n",
    "import numpy as np\n",
    "import datetime\n",
    "import time\n",
    "\n",
    "with open(\"registro.txt\", \"r\") as f:\n",
    "    data = f.readlines()\n",
    "    f.close()\n",
    "\n",
    "with open(\"datos.txt\", \"w\") as g:\n",
    "    for i in range(0, len(data)):\n",
    "        if i % 2 != 0:\n",
    "            g.write(data[i])\n",
    "    g.close()\n",
    "    X = pd.read_csv(\n",
    "        \"datos.txt\", sep=\"   \", header=None, names=[\"Fecha\", \"Hora\", \"Normal\", \"Promo\"]\n",
    "    )\n",
    "\n",
    "\n",
    "# print(X.filter(items=[\"Fecha\", \"Hora\", \"Normal\"]))\n",
    "# print(X.loc[[0]])\n",
    "\n",
    "\n",
    "horita = []\n",
    "for i in X.index:\n",
    "    horita.append(X[\"Fecha\"].values[i] + \" \" + X[\"Hora\"].values[i])\n",
    "\n",
    "# print(horita[0])\n",
    "ejex = []\n",
    "# print(len(X.index))\n",
    "for i in X.index:\n",
    "    ejex.append(datetime.datetime.strptime(horita[i], \"%Y-%m-%d %H:%M:%S\"))\n",
    "\n",
    "# print(ejex[0])\n",
    "\n",
    "ejeynormal = []\n",
    "ejeypromo = []\n",
    "for i in X.index:\n",
    "    ejeynormal.append(X[\"Normal\"].values[i])\n",
    "    ejeypromo.append(X[\"Promo\"].values[i])\n",
    "\n",
    "(fig, ax) = plt.subplots(1, 1)\n",
    "ax.plot(ejex, ejeynormal)\n",
    "fig.show()"
   ],
   "cell_type": "code",
   "metadata": {},
   "execution_count": null,
   "outputs": []
  }
 ]
}